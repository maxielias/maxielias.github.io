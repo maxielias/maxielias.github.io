{
 "cells": [
  {
   "cell_type": "code",
   "execution_count": 76,
   "metadata": {},
   "outputs": [],
   "source": [
    "import pandas as pd\n",
    "import numpy as np"
   ]
  },
  {
   "cell_type": "code",
   "execution_count": 77,
   "metadata": {},
   "outputs": [
    {
     "data": {
      "text/plain": [
       "0         x\n",
       "1         y\n",
       "2         z\n",
       "3      aaba\n",
       "4      baca\n",
       "5       NaN\n",
       "6      caba\n",
       "7      None\n",
       "8      bird\n",
       "9     horse\n",
       "10      dog\n",
       "dtype: object"
      ]
     },
     "execution_count": 77,
     "metadata": {},
     "output_type": "execute_result"
    }
   ],
   "source": [
    "# A partir de la siguiente `Serie` de datos, reemplazar las mayusculas por minusculas\n",
    "s = pd.Series(['X', 'Y', 'Z', 'Aaba', 'Baca', np.nan, 'CABA', None, 'bird', 'horse', 'dog'])\n",
    "s.str.lower()"
   ]
  },
  {
   "cell_type": "code",
   "execution_count": 78,
   "metadata": {},
   "outputs": [
    {
     "data": {
      "text/plain": [
       "0         x\n",
       "1         y\n",
       "2         z\n",
       "3      aaba\n",
       "4      baca\n",
       "5      nulo\n",
       "6      caba\n",
       "7      nulo\n",
       "8      bird\n",
       "9     horse\n",
       "10      dog\n",
       "dtype: object"
      ]
     },
     "execution_count": 78,
     "metadata": {},
     "output_type": "execute_result"
    }
   ],
   "source": [
    "s.str.lower().fillna(\"nulo\")"
   ]
  },
  {
   "cell_type": "code",
   "execution_count": 79,
   "metadata": {},
   "outputs": [
    {
     "name": "stdout",
     "output_type": "stream",
     "text": [
      "<class 'pandas.core.frame.DataFrame'>\n",
      "RangeIndex: 5 entries, 0 to 4\n",
      "Data columns (total 4 columns):\n",
      " #   Column         Non-Null Count  Dtype  \n",
      "---  ------         --------------  -----  \n",
      " 0   company_code   5 non-null      object \n",
      " 1   date_of_sale   5 non-null      object \n",
      " 2   sale_amount    5 non-null      float64\n",
      " 3   unit_price     5 non-null      float64\n",
      "dtypes: float64(2), object(2)\n",
      "memory usage: 288.0+ bytes\n"
     ]
    },
    {
     "data": {
      "text/html": [
       "<div>\n",
       "<style scoped>\n",
       "    .dataframe tbody tr th:only-of-type {\n",
       "        vertical-align: middle;\n",
       "    }\n",
       "\n",
       "    .dataframe tbody tr th {\n",
       "        vertical-align: top;\n",
       "    }\n",
       "\n",
       "    .dataframe thead th {\n",
       "        text-align: right;\n",
       "    }\n",
       "</style>\n",
       "<table border=\"1\" class=\"dataframe\">\n",
       "  <thead>\n",
       "    <tr style=\"text-align: right;\">\n",
       "      <th></th>\n",
       "      <th>company_code</th>\n",
       "      <th>date_of_sale</th>\n",
       "      <th>sale_amount</th>\n",
       "      <th>unit_price</th>\n",
       "    </tr>\n",
       "  </thead>\n",
       "  <tbody>\n",
       "    <tr>\n",
       "      <th>0</th>\n",
       "      <td>Abcd</td>\n",
       "      <td>12/05/2002</td>\n",
       "      <td>123.48500</td>\n",
       "      <td>1.9990</td>\n",
       "    </tr>\n",
       "    <tr>\n",
       "      <th>1</th>\n",
       "      <td>EFGF</td>\n",
       "      <td>16/02/1999</td>\n",
       "      <td>233.33120</td>\n",
       "      <td>23.3333</td>\n",
       "    </tr>\n",
       "    <tr>\n",
       "      <th>2</th>\n",
       "      <td>skfsalf</td>\n",
       "      <td>25/09/1998</td>\n",
       "      <td>22.50000</td>\n",
       "      <td>0.2250</td>\n",
       "    </tr>\n",
       "    <tr>\n",
       "      <th>3</th>\n",
       "      <td>sdfslew</td>\n",
       "      <td>12/02/2022</td>\n",
       "      <td>2566.55200</td>\n",
       "      <td>15.6875</td>\n",
       "    </tr>\n",
       "    <tr>\n",
       "      <th>4</th>\n",
       "      <td>safsdf</td>\n",
       "      <td>15/09/1997</td>\n",
       "      <td>23.15807</td>\n",
       "      <td>0.0051</td>\n",
       "    </tr>\n",
       "  </tbody>\n",
       "</table>\n",
       "</div>"
      ],
      "text/plain": [
       "  company_code date_of_sale   sale_amount  unit_price\n",
       "0         Abcd    12/05/2002    123.48500      1.9990\n",
       "1         EFGF    16/02/1999    233.33120     23.3333\n",
       "2      skfsalf    25/09/1998     22.50000      0.2250\n",
       "3      sdfslew    12/02/2022   2566.55200     15.6875\n",
       "4       safsdf    15/09/1997     23.15807      0.0051"
      ]
     },
     "execution_count": 79,
     "metadata": {},
     "output_type": "execute_result"
    }
   ],
   "source": [
    "# Cambiar el formato de todas las columnas numéricas para que se expresen con 2 posiciones decimales.\n",
    "# Ej: `0.1234`  $\\rightarrow$ `0.12`\n",
    "df = pd.DataFrame({\n",
    "    'company_code': ['Abcd','EFGF', 'skfsalf', 'sdfslew', 'safsdf'],\n",
    "    'date_of_sale ': ['12/05/2002','16/02/1999','25/09/1998','12/02/2022','15/09/1997'],\n",
    "    'sale_amount': [123.485, 233.3312, 22.5000, 2566.5520, 23.158070],\n",
    "    'unit_price': [1.999, 23.3333, 0.225000, 15.6875, 0.0051]})\n",
    "df.info()\n",
    "df"
   ]
  },
  {
   "cell_type": "code",
   "execution_count": 80,
   "metadata": {},
   "outputs": [
    {
     "data": {
      "text/html": [
       "<div>\n",
       "<style scoped>\n",
       "    .dataframe tbody tr th:only-of-type {\n",
       "        vertical-align: middle;\n",
       "    }\n",
       "\n",
       "    .dataframe tbody tr th {\n",
       "        vertical-align: top;\n",
       "    }\n",
       "\n",
       "    .dataframe thead th {\n",
       "        text-align: right;\n",
       "    }\n",
       "</style>\n",
       "<table border=\"1\" class=\"dataframe\">\n",
       "  <thead>\n",
       "    <tr style=\"text-align: right;\">\n",
       "      <th></th>\n",
       "      <th>company_code</th>\n",
       "      <th>date_of_sale</th>\n",
       "      <th>sale_amount</th>\n",
       "      <th>unit_price</th>\n",
       "    </tr>\n",
       "  </thead>\n",
       "  <tbody>\n",
       "    <tr>\n",
       "      <th>0</th>\n",
       "      <td>Abcd</td>\n",
       "      <td>12/05/2002</td>\n",
       "      <td>123.48</td>\n",
       "      <td>2.00</td>\n",
       "    </tr>\n",
       "    <tr>\n",
       "      <th>1</th>\n",
       "      <td>EFGF</td>\n",
       "      <td>16/02/1999</td>\n",
       "      <td>233.33</td>\n",
       "      <td>23.33</td>\n",
       "    </tr>\n",
       "    <tr>\n",
       "      <th>2</th>\n",
       "      <td>skfsalf</td>\n",
       "      <td>25/09/1998</td>\n",
       "      <td>22.50</td>\n",
       "      <td>0.22</td>\n",
       "    </tr>\n",
       "    <tr>\n",
       "      <th>3</th>\n",
       "      <td>sdfslew</td>\n",
       "      <td>12/02/2022</td>\n",
       "      <td>2566.55</td>\n",
       "      <td>15.69</td>\n",
       "    </tr>\n",
       "    <tr>\n",
       "      <th>4</th>\n",
       "      <td>safsdf</td>\n",
       "      <td>15/09/1997</td>\n",
       "      <td>23.16</td>\n",
       "      <td>0.01</td>\n",
       "    </tr>\n",
       "  </tbody>\n",
       "</table>\n",
       "</div>"
      ],
      "text/plain": [
       "  company_code date_of_sale   sale_amount  unit_price\n",
       "0         Abcd    12/05/2002       123.48        2.00\n",
       "1         EFGF    16/02/1999       233.33       23.33\n",
       "2      skfsalf    25/09/1998        22.50        0.22\n",
       "3      sdfslew    12/02/2022      2566.55       15.69\n",
       "4       safsdf    15/09/1997        23.16        0.01"
      ]
     },
     "execution_count": 80,
     "metadata": {},
     "output_type": "execute_result"
    }
   ],
   "source": [
    "columnas = df.select_dtypes(include=['float64']).columns\n",
    "df[columnas] = df.select_dtypes(include=['float64']).apply(lambda x: np.round(x, 2), axis=0)\n",
    "df\n",
    "# Puede ser include o exclude (para incluir o excluir un tipo de dato)"
   ]
  },
  {
   "cell_type": "code",
   "execution_count": 81,
   "metadata": {},
   "outputs": [
    {
     "name": "stdout",
     "output_type": "stream",
     "text": [
      "<class 'pandas.core.frame.DataFrame'>\n",
      "         texto  text_len  text_len2\n",
      "0      Quisque         7          7\n",
      "1       Mauris         6          6\n",
      "2  Vest4bulum,        11         11\n",
      "3        A 231         5          5\n",
      "4       lñgula         6          6\n"
     ]
    }
   ],
   "source": [
    "# Obtener el largo del texto que aparece en la columna `texto` y almacenarlo en la columna `text_len`.\n",
    "df = pd.DataFrame({\n",
    "    'texto': [\"Quisque\",\n",
    "            \"Mauris\",\n",
    "            \"Vest4bulum,\",\n",
    "            \"A 231\",\n",
    "            \"lñgula\"]\n",
    "})\n",
    "print(type(df))\n",
    "df[\"text_len\"] = df[\"texto\"].apply(lambda x: len(x))\n",
    "df[\"text_len2\"] = df[\"texto\"].str.len()\n",
    "print(df)"
   ]
  },
  {
   "cell_type": "code",
   "execution_count": 82,
   "metadata": {},
   "outputs": [
    {
     "data": {
      "text/plain": [
       "'H'"
      ]
     },
     "execution_count": 82,
     "metadata": {},
     "output_type": "execute_result"
    }
   ],
   "source": [
    "# axis = 1 hace operacion sobre toda las columnas de cada fila\n",
    "# axis = 0 hace operacion sobre toda las filas de cada columna\n",
    "\"Hello\"[0]"
   ]
  },
  {
   "attachments": {},
   "cell_type": "markdown",
   "metadata": {},
   "source": [
    "Yes, you are correctpd.dataframe.apply is a method that applies a function along an axis of the DataFrame1. The function can be applied on either rows or columns of the DataFrame depending on the axis parameter2.\n",
    "\n",
    "For example, you can apply a lambda function to all elements of a DataFrame using df.apply(lambda x: x**2)1.\n",
    "\n",
    "I hope this helps! Let me know if you have any other questions."
   ]
  },
  {
   "cell_type": "code",
   "execution_count": 83,
   "metadata": {},
   "outputs": [
    {
     "data": {
      "text/html": [
       "<div>\n",
       "<style scoped>\n",
       "    .dataframe tbody tr th:only-of-type {\n",
       "        vertical-align: middle;\n",
       "    }\n",
       "\n",
       "    .dataframe tbody tr th {\n",
       "        vertical-align: top;\n",
       "    }\n",
       "\n",
       "    .dataframe thead th {\n",
       "        text-align: right;\n",
       "    }\n",
       "</style>\n",
       "<table border=\"1\" class=\"dataframe\">\n",
       "  <thead>\n",
       "    <tr style=\"text-align: right;\">\n",
       "      <th></th>\n",
       "      <th>0</th>\n",
       "      <th>1</th>\n",
       "      <th>2</th>\n",
       "      <th>3</th>\n",
       "      <th>4</th>\n",
       "    </tr>\n",
       "  </thead>\n",
       "  <tbody>\n",
       "    <tr>\n",
       "      <th>0</th>\n",
       "      <td>0</td>\n",
       "      <td>1</td>\n",
       "      <td>4</td>\n",
       "      <td>9</td>\n",
       "      <td>16</td>\n",
       "    </tr>\n",
       "    <tr>\n",
       "      <th>1</th>\n",
       "      <td>25</td>\n",
       "      <td>36</td>\n",
       "      <td>49</td>\n",
       "      <td>64</td>\n",
       "      <td>81</td>\n",
       "    </tr>\n",
       "  </tbody>\n",
       "</table>\n",
       "</div>"
      ],
      "text/plain": [
       "    0   1   2   3   4\n",
       "0   0   1   4   9  16\n",
       "1  25  36  49  64  81"
      ]
     },
     "execution_count": 83,
     "metadata": {},
     "output_type": "execute_result"
    }
   ],
   "source": [
    "df = pd.DataFrame(data=np.reshape(np.arange(10), (2,5)))\n",
    "# df[\"texto\"] = [\"a\", \"b\"]\n",
    "df.apply(lambda x: x**2, axis=0)\n",
    "\n",
    "# reshape (Gives a new shape to an array without changing its data.)\n",
    "# arange (genera un array => arange([start,] stop[, step,], dtype=None, *, like=None))"
   ]
  },
  {
   "attachments": {},
   "cell_type": "markdown",
   "metadata": {},
   "source": [
    "Yes, you are correct! `pd.dataframe.apply` is a method that applies a function along an axis of the DataFrame¹. The function can be applied on either rows or columns of the DataFrame depending on the axis parameter³. \n",
    "\n",
    "For example, you can apply a lambda function to all elements of a DataFrame using `df.apply(lambda x: x**2)`¹. \n",
    "\n",
    "I hope this helps! Let me know if you have any other questions.\n",
    "\n",
    "Origen: Conversación con Bing, 14/4/2023(1) Pandas DataFrame DataFrame.apply() Función | Delft Stack. https://www.delftstack.com/es/api/python-pandas/pandas-dataframe-dataframe.apply-function/ Con acceso 14/4/2023.\n",
    "(2) pandas.DataFrame.apply — pandas 2.0.0 documentation. https://pandas.pydata.org/pandas-docs/stable/reference/api/pandas.DataFrame.apply.html Con acceso 14/4/2023.\n",
    "(3) Pandas数据处理(五) — apply() 方法介绍！ - 知乎 - 知乎专栏. https://zhuanlan.zhihu.com/p/340770847 Con acceso 14/4/2023.\n",
    "(4) Pandas DataFrame apply() Examples | DigitalOcean. https://www.digitalocean.com/community/tutorials/pandas-dataframe-apply-examples Con acceso 14/4/2023.\n",
    "(5) Pandas DataFrame apply() Method - W3School. https://www.w3schools.com/python/pandas/ref_df_apply.asp Con acceso 14/4/2023."
   ]
  },
  {
   "attachments": {},
   "cell_type": "markdown",
   "metadata": {},
   "source": [
    "You can use the `numpy.reshape()` method to reshape a numpy array¹. \n",
    "\n",
    "For example, you can reshape a (1,10) array to a (2,5) array using `np.reshape(array, (2,5))`¹. \n",
    "\n",
    "I hope this helps! Let me know if you have any other questions.\n",
    "\n",
    "Origen: Conversación con Bing, 14/4/2023(1) numpy.reshape — NumPy v1.24 Manual. https://numpy.org/doc/stable/reference/generated/numpy.reshape.html Con acceso 14/4/2023.\n",
    "(2) numpy.ndarray.reshape — NumPy v1.24 Manual. https://numpy.org/doc/stable/reference/generated/numpy.ndarray.reshape.html Con acceso 14/4/2023.\n",
    "(3) NumPy Array Reshaping - W3School. https://www.w3schools.com/python/numpy/numpy_array_reshape.asp Con acceso 14/4/2023."
   ]
  },
  {
   "cell_type": "code",
   "execution_count": 84,
   "metadata": {},
   "outputs": [
    {
     "name": "stdout",
     "output_type": "stream",
     "text": [
      "--------------------------------------------\n"
     ]
    }
   ],
   "source": [
    "print(\"--------------------------------------------\")"
   ]
  },
  {
   "attachments": {},
   "cell_type": "markdown",
   "metadata": {},
   "source": [
    "You are correct again! `pd.DataFrame.applymap()` is a method that applies a function to every element of a DataFrame³. \n",
    "\n",
    "For example, you can use `df.applymap(lambda x: x*2)` to multiply every element of a DataFrame by 2³. \n",
    "\n",
    "I hope this helps! Let me know if you have any other questions.\n",
    "\n",
    "Origen: Conversación con Bing, 14/4/2023(1) pandas.DataFrame.applymap — pandas 2.0.0 documentation. https://pandas.pydata.org/pandas-docs/stable/reference/api/pandas.DataFrame.applymap.html Con acceso 14/4/2023.\n",
    "(2) Diferencia entre pandas apply, map y applymap | Delft Stack. https://www.delftstack.com/es/howto/python-pandas/difference-between-pandas-apply-map-and-applymap/ Con acceso 14/4/2023.\n",
    "(3) Pandasのデータに関数を適用させるapply、applymap、mapの使い方 - DeepAge. https://deepage.net/features/pandas-apply.html Con acceso 14/4/2023.\n",
    "(4) Pandas DataFrame applymap() Method - W3School. https://www.w3schools.com/python/pandas/ref_df_applymap.asp Con acceso 14/4/2023.\n",
    "(5) Python | Pandas dataframe.applymap() - GeeksforGeeks. https://www.geeksforgeeks.org/python-pandas-dataframe-applymap/ Con acceso 14/4/2023."
   ]
  },
  {
   "cell_type": "code",
   "execution_count": 85,
   "metadata": {},
   "outputs": [
    {
     "data": {
      "text/html": [
       "<div>\n",
       "<style scoped>\n",
       "    .dataframe tbody tr th:only-of-type {\n",
       "        vertical-align: middle;\n",
       "    }\n",
       "\n",
       "    .dataframe tbody tr th {\n",
       "        vertical-align: top;\n",
       "    }\n",
       "\n",
       "    .dataframe thead th {\n",
       "        text-align: right;\n",
       "    }\n",
       "</style>\n",
       "<table border=\"1\" class=\"dataframe\">\n",
       "  <thead>\n",
       "    <tr style=\"text-align: right;\">\n",
       "      <th></th>\n",
       "      <th>0</th>\n",
       "      <th>1</th>\n",
       "      <th>2</th>\n",
       "      <th>3</th>\n",
       "      <th>4</th>\n",
       "    </tr>\n",
       "  </thead>\n",
       "  <tbody>\n",
       "    <tr>\n",
       "      <th>0</th>\n",
       "      <td>0</td>\n",
       "      <td>1</td>\n",
       "      <td>4</td>\n",
       "      <td>9</td>\n",
       "      <td>16</td>\n",
       "    </tr>\n",
       "    <tr>\n",
       "      <th>1</th>\n",
       "      <td>25</td>\n",
       "      <td>36</td>\n",
       "      <td>49</td>\n",
       "      <td>64</td>\n",
       "      <td>81</td>\n",
       "    </tr>\n",
       "  </tbody>\n",
       "</table>\n",
       "</div>"
      ],
      "text/plain": [
       "    0   1   2   3   4\n",
       "0   0   1   4   9  16\n",
       "1  25  36  49  64  81"
      ]
     },
     "execution_count": 85,
     "metadata": {},
     "output_type": "execute_result"
    }
   ],
   "source": [
    "df.applymap(lambda x: x**2)"
   ]
  },
  {
   "attachments": {},
   "cell_type": "markdown",
   "metadata": {},
   "source": [
    "El método apply() se utiliza para aplicar una función a ciertas filas o columnas de un DataFrame. Por otro lado, el método applymap() se utiliza para aplicar una función a todos los elementos de un DataFrame.\n",
    "\n",
    "En general, si la función que deseas aplicar es una función de elemento único (es decir, una función que toma un solo valor y devuelve un solo valor), entonces puedes usar tanto apply() como applymap(). Sin embargo, si la función que deseas aplicar es una función de varias columnas (es decir, una función que toma varias columnas como entrada y devuelve una sola columna como salida), entonces debes usar apply().\n",
    "\n",
    "Espero que esto te ayude! Déjame saber si tienes alguna otra pregunta."
   ]
  },
  {
   "cell_type": "code",
   "execution_count": 86,
   "metadata": {},
   "outputs": [
    {
     "data": {
      "text/html": [
       "<div>\n",
       "<style scoped>\n",
       "    .dataframe tbody tr th:only-of-type {\n",
       "        vertical-align: middle;\n",
       "    }\n",
       "\n",
       "    .dataframe tbody tr th {\n",
       "        vertical-align: top;\n",
       "    }\n",
       "\n",
       "    .dataframe thead th {\n",
       "        text-align: right;\n",
       "    }\n",
       "</style>\n",
       "<table border=\"1\" class=\"dataframe\">\n",
       "  <thead>\n",
       "    <tr style=\"text-align: right;\">\n",
       "      <th></th>\n",
       "      <th>0</th>\n",
       "      <th>1</th>\n",
       "      <th>2</th>\n",
       "      <th>3</th>\n",
       "      <th>4</th>\n",
       "    </tr>\n",
       "  </thead>\n",
       "  <tbody>\n",
       "    <tr>\n",
       "      <th>0</th>\n",
       "      <td>0</td>\n",
       "      <td>1</td>\n",
       "      <td>2</td>\n",
       "      <td>3</td>\n",
       "      <td>4</td>\n",
       "    </tr>\n",
       "    <tr>\n",
       "      <th>1</th>\n",
       "      <td>5</td>\n",
       "      <td>6</td>\n",
       "      <td>7</td>\n",
       "      <td>8</td>\n",
       "      <td>9</td>\n",
       "    </tr>\n",
       "  </tbody>\n",
       "</table>\n",
       "</div>"
      ],
      "text/plain": [
       "   0  1  2  3  4\n",
       "0  0  1  2  3  4\n",
       "1  5  6  7  8  9"
      ]
     },
     "execution_count": 86,
     "metadata": {},
     "output_type": "execute_result"
    }
   ],
   "source": [
    "df"
   ]
  },
  {
   "cell_type": "code",
   "execution_count": 87,
   "metadata": {},
   "outputs": [
    {
     "data": {
      "text/plain": [
       "0    10\n",
       "1    35\n",
       "dtype: int64"
      ]
     },
     "execution_count": 87,
     "metadata": {},
     "output_type": "execute_result"
    }
   ],
   "source": [
    "df.apply(sum, axis=1) # Es por columna. Aplica la funcion a cada fila apilando columnas."
   ]
  },
  {
   "cell_type": "code",
   "execution_count": 88,
   "metadata": {},
   "outputs": [
    {
     "data": {
      "text/plain": [
       "0     5\n",
       "1     7\n",
       "2     9\n",
       "3    11\n",
       "4    13\n",
       "dtype: int64"
      ]
     },
     "execution_count": 88,
     "metadata": {},
     "output_type": "execute_result"
    }
   ],
   "source": [
    "df.apply(sum, axis=0) # Es por index. Aplica la funcion a cada columna apilando indices."
   ]
  },
  {
   "cell_type": "code",
   "execution_count": 89,
   "metadata": {},
   "outputs": [],
   "source": [
    "df = df.reindex([0,1,0, \"i\"])"
   ]
  },
  {
   "cell_type": "code",
   "execution_count": 90,
   "metadata": {},
   "outputs": [
    {
     "data": {
      "text/html": [
       "<div>\n",
       "<style scoped>\n",
       "    .dataframe tbody tr th:only-of-type {\n",
       "        vertical-align: middle;\n",
       "    }\n",
       "\n",
       "    .dataframe tbody tr th {\n",
       "        vertical-align: top;\n",
       "    }\n",
       "\n",
       "    .dataframe thead th {\n",
       "        text-align: right;\n",
       "    }\n",
       "</style>\n",
       "<table border=\"1\" class=\"dataframe\">\n",
       "  <thead>\n",
       "    <tr style=\"text-align: right;\">\n",
       "      <th></th>\n",
       "      <th>0</th>\n",
       "      <th>1</th>\n",
       "      <th>2</th>\n",
       "      <th>3</th>\n",
       "      <th>4</th>\n",
       "    </tr>\n",
       "  </thead>\n",
       "  <tbody>\n",
       "    <tr>\n",
       "      <th>0</th>\n",
       "      <td>0.0</td>\n",
       "      <td>1.0</td>\n",
       "      <td>2.0</td>\n",
       "      <td>3.0</td>\n",
       "      <td>4.0</td>\n",
       "    </tr>\n",
       "    <tr>\n",
       "      <th>1</th>\n",
       "      <td>5.0</td>\n",
       "      <td>6.0</td>\n",
       "      <td>7.0</td>\n",
       "      <td>8.0</td>\n",
       "      <td>9.0</td>\n",
       "    </tr>\n",
       "    <tr>\n",
       "      <th>0</th>\n",
       "      <td>0.0</td>\n",
       "      <td>1.0</td>\n",
       "      <td>2.0</td>\n",
       "      <td>3.0</td>\n",
       "      <td>4.0</td>\n",
       "    </tr>\n",
       "    <tr>\n",
       "      <th>i</th>\n",
       "      <td>Abc</td>\n",
       "      <td>Abc</td>\n",
       "      <td>Abc</td>\n",
       "      <td>Abc</td>\n",
       "      <td>Abc</td>\n",
       "    </tr>\n",
       "  </tbody>\n",
       "</table>\n",
       "</div>"
      ],
      "text/plain": [
       "     0    1    2    3    4\n",
       "0  0.0  1.0  2.0  3.0  4.0\n",
       "1  5.0  6.0  7.0  8.0  9.0\n",
       "0  0.0  1.0  2.0  3.0  4.0\n",
       "i  Abc  Abc  Abc  Abc  Abc"
      ]
     },
     "execution_count": 90,
     "metadata": {},
     "output_type": "execute_result"
    }
   ],
   "source": [
    "df = df.fillna(\"Abc\")\n",
    "df"
   ]
  },
  {
   "cell_type": "code",
   "execution_count": 91,
   "metadata": {},
   "outputs": [
    {
     "name": "stdout",
     "output_type": "stream",
     "text": [
      "0    abc\n",
      "1    abc\n",
      "2    abc\n",
      "3    abc\n",
      "4    abc\n",
      "Name: i, dtype: object\n",
      "     0    1    2    3    4\n",
      "0  0.0  1.0  2.0  3.0  4.0\n",
      "1  5.0  6.0  7.0  8.0  9.0\n",
      "0  0.0  1.0  2.0  3.0  4.0\n",
      "i  abc  abc  abc  abc  abc\n"
     ]
    }
   ],
   "source": [
    "print(df.loc[\"i\"].str.lower())\n",
    "def lower(x):\n",
    "    try:\n",
    "        return str(x).lower() #con str transforma primero en texto, entonces no llega al error\n",
    "    except:\n",
    "        print(\"no\")\n",
    "        return x\n",
    "print(df.applymap(lower))"
   ]
  },
  {
   "attachments": {},
   "cell_type": "markdown",
   "metadata": {},
   "source": [
    "¡Claro! Aquí hay algunos ejemplos de diferentes formas de hacer slicing en un DataFrame:\n",
    "\n",
    "Para seleccionar una columna específica, puedes usar la notación de corchetes y pasar el nombre de la columna como una cadena: df['nombre_columna'].\n",
    "\n",
    "Para seleccionar varias columnas, puedes pasar una lista de nombres de columnas: df[['nombre_columna_1', 'nombre_columna_2']].\n",
    "\n",
    "Para seleccionar filas específicas, puedes usar la función loc[]. Por ejemplo, para seleccionar las filas con índices 0 y 1: df.loc[[0, 1]].\n",
    "\n",
    "Para seleccionar filas y columnas específicas al mismo tiempo, puedes usar la función loc[] y pasar tanto los índices de fila como los nombres de columna: df.loc[[0, 1], ['nombre_columna_1', 'nombre_columna_2']].\n",
    "\n",
    "Espero que esto te ayude! Déjame saber si tienes alguna otra pregunta."
   ]
  },
  {
   "cell_type": "code",
   "execution_count": 92,
   "metadata": {},
   "outputs": [
    {
     "data": {
      "text/plain": [
       "0     True\n",
       "1    False\n",
       "0     True\n",
       "Name: 0, dtype: bool"
      ]
     },
     "metadata": {},
     "output_type": "display_data"
    }
   ],
   "source": [
    "def is_even(x):\n",
    "    if x % 2 == 0:\n",
    "        return True\n",
    "    else:\n",
    "        return False\n",
    "\n",
    "# display(df.applymap(is_even))\n",
    "display(df.drop(index=\"i\").iloc[:, 0].apply(is_even))\n",
    "# applymap es para df, apply para series"
   ]
  },
  {
   "cell_type": "code",
   "execution_count": 93,
   "metadata": {},
   "outputs": [
    {
     "name": "stdout",
     "output_type": "stream",
     "text": [
      "a    object\n",
      "b    object\n",
      "c    object\n",
      "d    object\n",
      "e    object\n",
      "dtype: object\n",
      "     a    b    c    d    e\n",
      "0  0.0  1.0  2.0  3.0  4.0\n",
      "1  5.0  6.0  7.0  8.0  9.0\n",
      "0  0.0  1.0  2.0  3.0  4.0\n",
      "i  Abc  Abc  Abc  Abc  Abc\n",
      "     a    b    c    d    e nueva_columna\n",
      "0  0.0  1.0  2.0  3.0  4.0        no_nan\n",
      "1  5.0  6.0  7.0  8.0  9.0           NaN\n",
      "0  0.0  1.0  2.0  3.0  4.0        no_nan\n",
      "i  Abc  Abc  Abc  Abc  Abc           NaN\n"
     ]
    }
   ],
   "source": [
    "#df[:-1] = df[:-1].astype(float)\n",
    "df.columns = [\"a\", \"b\", \"c\", \"d\", \"e\"]\n",
    "print(df.dtypes)\n",
    "print(df.select_dtypes(include=['object']))\n",
    "df.loc[df[\"a\"]==0.0, \"nueva_columna\"] = \"no_nan\"\n",
    "print(df)"
   ]
  },
  {
   "cell_type": "code",
   "execution_count": 99,
   "metadata": {},
   "outputs": [
    {
     "name": "stdout",
     "output_type": "stream",
     "text": [
      "a                object\n",
      "b                object\n",
      "c                object\n",
      "d                object\n",
      "e                object\n",
      "nueva_columna    object\n",
      "dtype: object\n",
      "a                abc\n",
      "b                abc\n",
      "c                abc\n",
      "d                abc\n",
      "e                abc\n",
      "nueva_columna    NaN\n",
      "Name: i, dtype: object\n",
      "a    abc\n",
      "b    abc\n",
      "c    abc\n",
      "d    abc\n",
      "Name: i, dtype: object\n",
      "a    abc\n",
      "b    abc\n",
      "c    abc\n",
      "d    abc\n",
      "Name: i, dtype: object\n"
     ]
    }
   ],
   "source": [
    "print(df.dtypes)\n",
    "print(df.iloc[-1].str.lower())\n",
    "print(df.iloc[-1, :-2].apply(lambda x: x.lower()))\n",
    "print(df.iloc[-1, :-2].map(lambda x: x.lower()))"
   ]
  },
  {
   "attachments": {},
   "cell_type": "markdown",
   "metadata": {},
   "source": [
    "¡Sí! Puedes aplicar los métodos apply() y map() a un DataFrame que contenga tanto strings como números.\n",
    "\n",
    "Por ejemplo, si tienes un DataFrame con una columna de strings y una columna de números, puedes aplicar una función a la columna de números usando el método apply(), y luego aplicar otra función a la columna de strings usando el método map().\n",
    "\n",
    "Aquí hay un ejemplo:\n",
    "\n",
    "import pandas as pd\n",
    "\n",
    "df = pd.DataFrame({'strings': ['hola', 'mundo'], 'numeros': [1, 2]})\n",
    "\n",
    "def funcion_numeros(x):\n",
    "    return x * 2\n",
    "\n",
    "def funcion_strings(x):\n",
    "    return x.upper()\n",
    "\n",
    "df['numeros'] = df['numeros'].apply(funcion_numeros)\n",
    "df['strings'] = df['strings'].map(funcion_strings)\n",
    "\n",
    "print(df)\n",
    "Este código aplica la función funcion_numeros() a la columna “numeros” del DataFrame y la función funcion_strings() a la columna “strings” del DataFrame.\n",
    "\n",
    "Espero que esto te ayude! Déjame saber si tienes alguna otra pregunta."
   ]
  },
  {
   "attachments": {
    "image.png": {
     "image/png": "[encoded data removed]"
    }
   },
   "cell_type": "markdown",
   "metadata": {},
   "source": [
    "Comparing map, applymap and apply: Context Matters\n",
    "First major difference: DEFINITION\n",
    "\n",
    "map is defined on Series ONLY\n",
    "applymap is defined on DataFrames ONLY\n",
    "apply is defined on BOTH\n",
    "Second major difference: INPUT ARGUMENT\n",
    "\n",
    "map accepts dicts, Series, or callable\n",
    "applymap and apply accept callables only\n",
    "Third major difference: BEHAVIOR\n",
    "\n",
    "map is elementwise for Series\n",
    "applymap is elementwise for DataFrames\n",
    "apply also works elementwise but is suited to more complex operations and aggregation. The behaviour and return value depends on the function.\n",
    "Fourth major difference (the most important one): USE CASE\n",
    "\n",
    "map is meant for mapping values from one domain to another, so is optimised for performance (e.g., df['A'].map({1:'a', 2:'b', 3:'c'}))\n",
    "applymap is good for elementwise transformations across multiple rows/columns (e.g., df[['A', 'B', 'C']].applymap(str.strip))\n",
    "apply is for applying any function that cannot be vectorised (e.g., df['sentences'].apply(nltk.sent_tokenize)).\n",
    "Also see When should I (not) want to use pandas apply() in my code? for a writeup I made a while back on the most appropriate scenarios for using apply (note that there aren't many, but there are a few— apply is generally slow).\n",
    "\n",
    "![image.png](attachment:image.png)\n",
    "\n",
    "Footnotes\n",
    "\n",
    "map when passed a dictionary/Series will map elements based on the keys in that dictionary/Series. Missing values will be recorded as NaN in the output.\n",
    "\n",
    "applymap in more recent versions has been optimised for some operations. You will find applymap slightly faster than apply in some cases. My suggestion is to test them both and use whatever works better.\n",
    "\n",
    "map is optimised for elementwise mappings and transformation. Operations that involve dictionaries or Series will enable pandas to use faster code paths for better performance.\n",
    "\n",
    "Series.apply returns a scalar for aggregating operations, Series otherwise. Similarly for DataFrame.apply. Note that apply also has fastpaths when called with certain NumPy functions such as mean, sum, etc."
   ]
  }
 ],
 "metadata": {
  "kernelspec": {
   "display_name": "Python 3",
   "language": "python",
   "name": "python3"
  },
  "language_info": {
   "codemirror_mode": {
    "name": "ipython",
    "version": 3
   },
   "file_extension": ".py",
   "mimetype": "text/x-python",
   "name": "python",
   "nbconvert_exporter": "python",
   "pygments_lexer": "ipython3",
   "version": "3.10.5"
  },
  "orig_nbformat": 4
 },
 "nbformat": 4,
 "nbformat_minor": 2
}
