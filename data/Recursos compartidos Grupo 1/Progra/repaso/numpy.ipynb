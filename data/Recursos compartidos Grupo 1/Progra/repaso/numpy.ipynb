{
 "cells": [
  {
   "cell_type": "code",
   "execution_count": 4,
   "metadata": {},
   "outputs": [],
   "source": [
    "import numpy as np"
   ]
  },
  {
   "cell_type": "code",
   "execution_count": 5,
   "metadata": {},
   "outputs": [
    {
     "name": "stdout",
     "output_type": "stream",
     "text": [
      "[1 2 3]\n",
      "[[0. 0. 0.]\n",
      " [0. 0. 0.]]\n",
      "[[1. 1. 1.]\n",
      " [1. 1. 1.]]\n",
      "[0 2 4 6 8]\n",
      "[[1 2 3]\n",
      " [4 5 6]]\n",
      "[[1 3 5]\n",
      " [2 4 6]]\n",
      "[5 7 9]\n",
      "[3 3 3]\n",
      "[ 4 10 18]\n",
      "[4.  2.5 2. ]\n",
      "32\n",
      "3.0\n",
      "3.0\n",
      "1.4142135623730951\n",
      "2.0\n",
      "3\n",
      "[2 3]\n",
      "[1 2 3]\n",
      "[4 5]\n"
     ]
    }
   ],
   "source": [
    "# Creating arrays\n",
    "arr1 = np.array([1, 2, 3])\n",
    "print(arr1)  # Output: [1 2 3]\n",
    "\n",
    "arr2 = np.zeros((2, 3))\n",
    "print(arr2)  # Output: [[0. 0. 0.]\n",
    "             #          [0. 0. 0.]]\n",
    "\n",
    "arr3 = np.ones((2, 3))\n",
    "print(arr3)  # Output: [[1. 1. 1.]\n",
    "             #          [1. 1. 1.]]\n",
    "\n",
    "arr4 = np.arange(0, 10, 2)\n",
    "print(arr4)  # Output: [0 2 4 6 8]\n",
    "\n",
    "# Reshaping arrays\n",
    "arr5 = np.array([[1, 2], [3, 4], [5, 6]])\n",
    "print(arr5.reshape((2, 3)))  # Output: [[1 2 3]\n",
    "                            #          [4 5 6]]\n",
    "\n",
    "arr6 = np.transpose(arr5)\n",
    "print(arr6)  # Output: [[1 3 5]\n",
    "             #          [2 4 6]]\n",
    "\n",
    "# Mathematical operations\n",
    "arr7 = np.array([1, 2, 3])\n",
    "arr8 = np.array([4, 5, 6])\n",
    "\n",
    "arr9 = np.add(arr7, arr8)\n",
    "print(arr9)  # Output: [5 7 9]\n",
    "\n",
    "arr10 = np.subtract(arr8, arr7)\n",
    "print(arr10)  # Output: [3 3 3]\n",
    "\n",
    "arr11 = np.multiply(arr7, arr8)\n",
    "print(arr11)  # Output: [ 4 10 18]\n",
    "\n",
    "arr12 = np.divide(arr8, arr7)\n",
    "print(arr12)  # Output: [4.  2.5 2. ]\n",
    "\n",
    "arr13 = np.dot(arr7, arr8)\n",
    "print(arr13)  # Output: 32\n",
    "\n",
    "# Statistical operations\n",
    "arr14 = np.array([1, 2, 3, 4, 5])\n",
    "print(np.mean(arr14))  # Output: 3.0\n",
    "print(np.median(arr14))  # Output: 3.0\n",
    "print(np.std(arr14))  # Output: 1.41421356\n",
    "print(np.var(arr14))  # Output: 2.0\n",
    "\n",
    "# Array indexing and slicing\n",
    "arr15 = np.array([1, 2, 3, 4, 5])\n",
    "print(arr15[2])  # Output: 3\n",
    "print(arr15[1:3])  # Output: [2 3]\n",
    "print(arr15[:3])  # Output: [1 2 3]\n",
    "print(arr15[3:])  # Output: [4 5]\n"
   ]
  },
  {
   "cell_type": "code",
   "execution_count": 7,
   "metadata": {},
   "outputs": [
    {
     "name": "stdout",
     "output_type": "stream",
     "text": [
      "[ 3  5 10  7]\n",
      "[0 2 4 6 8]\n"
     ]
    }
   ],
   "source": [
    "l = [3, 5, 10, 7]\n",
    "a = np.array(l)\n",
    "print(a)\n",
    "b = np.arange(0, 10, 2)\n",
    "print(b)"
   ]
  },
  {
   "cell_type": "code",
   "execution_count": 11,
   "metadata": {},
   "outputs": [
    {
     "name": "stdout",
     "output_type": "stream",
     "text": [
      "[ 0 -1  2 -1  4 -1  6 -1  8 -1]\n"
     ]
    }
   ],
   "source": [
    "# Reemplazar todos los números impares por el número $-1$\n",
    "arr2 = np.array([0, 1, 2, 3, 4, 5, 6, 7, 8, 9])\n",
    "arr2[arr2%2==1] = -1\n",
    "print(arr2)"
   ]
  },
  {
   "cell_type": "code",
   "execution_count": 12,
   "metadata": {},
   "outputs": [
    {
     "data": {
      "text/plain": [
       "array([1, 2, 3, 4])"
      ]
     },
     "execution_count": 12,
     "metadata": {},
     "output_type": "execute_result"
    }
   ],
   "source": [
    "#A partir de los array 1D `x` e `y`, crear un array 1D `z` que sea el resultado de eliminar en `x` los elementos presentes en `y`.\n",
    "# - ver la función [*setdiff1d*](https://numpy.org/doc/stable/reference/generated/numpy.setdiff1d.html)\n",
    "x = np.array([1,2,3,4,5])\n",
    "y = np.array([5,6,7,8,9])\n",
    "z = np.setdiff1d(x, y)\n",
    "z"
   ]
  },
  {
   "cell_type": "code",
   "execution_count": 16,
   "metadata": {},
   "outputs": [
    {
     "name": "stdout",
     "output_type": "stream",
     "text": [
      "[21 24 27 30 33 36 39 42 45 48 51 54 57 60 63 66 69 72 75 78 81 84 87 90\n",
      " 93 96 99]\n"
     ]
    }
   ],
   "source": [
    "# Definir una función que obtiene los elementos de una matriz que sean mayores a 10 y multiplos de 3\n",
    "def m10_mult3(X):\n",
    "    X1 = X[(X>20)&(X%3==0)]\n",
    "    return X1\n",
    "A = np.arange(100).reshape(5,-1)\n",
    "\n",
    "print(m10_mult3(A))"
   ]
  },
  {
   "cell_type": "code",
   "execution_count": 17,
   "metadata": {},
   "outputs": [
    {
     "data": {
      "text/plain": [
       "63"
      ]
     },
     "execution_count": 17,
     "metadata": {},
     "output_type": "execute_result"
    }
   ],
   "source": [
    "def sum_m7_m9(r):\n",
    "    ### Completa con tu código aquí:\n",
    "    return r[(r < 100) & (r % 7 == 0) & (r % 9 == 0)].sum()\n",
    "    ###\n",
    "    \n",
    "a = np.arange(1, 200)\n",
    "\n",
    "sum_m7_m9(a)"
   ]
  },
  {
   "cell_type": "code",
   "execution_count": 35,
   "metadata": {},
   "outputs": [
    {
     "name": "stdout",
     "output_type": "stream",
     "text": [
      "[0 0 1 2 3 4 5 8 8 9]\n",
      "[ 0  0  1  3  6 10 15 23 31 40]\n",
      "[0.33333333 1.         2.         3.         4.         5.66666667\n",
      " 7.         8.33333333]\n"
     ]
    }
   ],
   "source": [
    "# Crear una función que calcule la media movil con una ventana de largo 3.\n",
    "\n",
    "# **pista:**\n",
    "# - $$SMA = \\frac{A_{n-2} + A_{n-1} + A_{n}}{3}$$\n",
    "# - Método [*cumsum*](https://numpy.org/doc/stable/reference/generated/numpy.cumsum.html)\n",
    "\n",
    "a = np.random.randint(10, size=10)\n",
    "a.sort()\n",
    "# print(a)\n",
    "\n",
    "def mov_avg(a, n=3):\n",
    "    b = np.cumsum(a)\n",
    "    b[n:] = b[n:] - b[:-n]\n",
    "    return b[n-1:]/n\n",
    "\n",
    "print(a)\n",
    "print(np.cumsum(a))\n",
    "print(mov_avg(a))"
   ]
  }
 ],
 "metadata": {
  "kernelspec": {
   "display_name": "Python 3",
   "language": "python",
   "name": "python3"
  },
  "language_info": {
   "codemirror_mode": {
    "name": "ipython",
    "version": 3
   },
   "file_extension": ".py",
   "mimetype": "text/x-python",
   "name": "python",
   "nbconvert_exporter": "python",
   "pygments_lexer": "ipython3",
   "version": "3.10.5"
  },
  "orig_nbformat": 4
 },
 "nbformat": 4,
 "nbformat_minor": 2
}
