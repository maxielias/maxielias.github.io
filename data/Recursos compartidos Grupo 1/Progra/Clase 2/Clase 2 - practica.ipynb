{
 "cells": [
  {
   "cell_type": "markdown",
   "metadata": {},
   "source": [
    "<img src=\"img/Marca-ITBA-Color-ALTA.png\" width=\"200\">\n",
    "\n",
    "# Master en Management & Analytics\n",
    "\n",
    "## Programación para el Análisis de Datos\n",
    "\n",
    "## Clase 2 - práctica resuelta\n"
   ]
  },
  {
   "cell_type": "code",
   "execution_count": 91,
   "metadata": {},
   "outputs": [
    {
     "name": "stdout",
     "output_type": "stream",
     "text": [
      "c:\\Users\\MEC\\Documents\\itba\\analisis_datos\\clase_2\\clase 2 - practica\\clase 2 - practica\n"
     ]
    }
   ],
   "source": [
    "import numpy as np\n",
    "import pandas as pd\n",
    "import os\n",
    "print(os.getcwd())"
   ]
  },
  {
   "cell_type": "markdown",
   "metadata": {},
   "source": [
    "### Ejercicio 1\n",
    "\n",
    "Escribir una función que sume todos los multiplos de 7 y 9 menores a 100"
   ]
  },
  {
   "cell_type": "code",
   "execution_count": 92,
   "metadata": {},
   "outputs": [
    {
     "name": "stdout",
     "output_type": "stream",
     "text": [
      "[ 7  9 14 18 21 27 28 35 36 42 45 49 54 56 63 70 72 77 81 84 90 91 98 99]\n"
     ]
    },
    {
     "data": {
      "text/plain": [
       "1266"
      ]
     },
     "execution_count": 92,
     "metadata": {},
     "output_type": "execute_result"
    }
   ],
   "source": [
    "def sum_m7_m9(lista: list):\n",
    "    lista = lista[lista < 100]\n",
    "    lista = lista[(lista % 7 == 0) | (lista % 9 == 0)]\n",
    "    print(lista)\n",
    "    lista = np.sum(lista)\n",
    "    return lista\n",
    "    \n",
    "a = np.arange(1, 200)\n",
    "\n",
    "sum_m7_m9(a)"
   ]
  },
  {
   "cell_type": "markdown",
   "metadata": {},
   "source": [
    "### Ejercicio 2\n",
    "\n",
    "Crear una función que calcule la media movil con una ventana de largo 3.\n",
    "\n",
    "**pista:**\n",
    "- $$SMA = \\frac{A_{n-2} + A_{n-1} + A_{n}}{3}$$\n",
    "- Método [*cumsum*](https://numpy.org/doc/stable/reference/generated/numpy.cumsum.html)"
   ]
  },
  {
   "cell_type": "code",
   "execution_count": 93,
   "metadata": {},
   "outputs": [
    {
     "name": "stdout",
     "output_type": "stream",
     "text": [
      "[ 1  2  3  4  5  6  7  8  9 10]\n"
     ]
    },
    {
     "data": {
      "text/plain": [
       "[2.0, 3.0, 4.0, 5.0, 6.0, 7.0, 8.0, 9.0]"
      ]
     },
     "execution_count": 93,
     "metadata": {},
     "output_type": "execute_result"
    }
   ],
   "source": [
    "def media_movil_3(lista: list):\n",
    "    print(lista)\n",
    "    lista = [sum(lista[i-3:i])/3 for i in lista[2:]]\n",
    "    #lista = lista[::]\n",
    "    return lista\n",
    "    \n",
    "a = np.arange(1,11)\n",
    "\n",
    "media_movil_3(a)\n"
   ]
  },
  {
   "cell_type": "markdown",
   "metadata": {},
   "source": [
    "### Ejercicio 3\n",
    "\n",
    "\n",
    "* Crear un dataframe que contenga la siguiente información:\n",
    "\n",
    "\n",
    "|    |  Nombre             | Posición | Número\n",
    "|---:|:---------           | :----    |:----\n",
    "|  0 | Nery Pumpido        | ARQ      | 18\n",
    "|  1 | José Cuciuffo       | DEF      | 9\n",
    "|  2 | José Luis Brown     | DEF      | 5\n",
    "|  3 | Oscar Ruggeri       | DEF      | 19\n",
    "|  4 | Sergio Batista      | MED      | 2\n",
    "|  5 | Ricardo Giusti      | MED      | 14\n",
    "|  6 | Jorge Burruchaga    | MED      | 7\n",
    "|  7 | Héctor Enrique      | MED      | 12\n",
    "|  8 | Julio Olarticoechea | MED      | 16\n",
    "|  9 | Jorge Valdano       | DEL      | 11\n",
    "|  10| Diego Maradona      | DEL      | 10\n"
   ]
  },
  {
   "cell_type": "code",
   "execution_count": 94,
   "metadata": {},
   "outputs": [
    {
     "data": {
      "text/html": [
       "<div>\n",
       "<style scoped>\n",
       "    .dataframe tbody tr th:only-of-type {\n",
       "        vertical-align: middle;\n",
       "    }\n",
       "\n",
       "    .dataframe tbody tr th {\n",
       "        vertical-align: top;\n",
       "    }\n",
       "\n",
       "    .dataframe thead th {\n",
       "        text-align: right;\n",
       "    }\n",
       "</style>\n",
       "<table border=\"1\" class=\"dataframe\">\n",
       "  <thead>\n",
       "    <tr style=\"text-align: right;\">\n",
       "      <th></th>\n",
       "      <th>Nombre</th>\n",
       "      <th>Posición</th>\n",
       "      <th>Número</th>\n",
       "    </tr>\n",
       "  </thead>\n",
       "  <tbody>\n",
       "    <tr>\n",
       "      <th>0</th>\n",
       "      <td>Nery Pumpido</td>\n",
       "      <td>ARQ</td>\n",
       "      <td>18</td>\n",
       "    </tr>\n",
       "    <tr>\n",
       "      <th>1</th>\n",
       "      <td>José Cuciuffo</td>\n",
       "      <td>DEF</td>\n",
       "      <td>9</td>\n",
       "    </tr>\n",
       "    <tr>\n",
       "      <th>2</th>\n",
       "      <td>José Luis Brown</td>\n",
       "      <td>DEF</td>\n",
       "      <td>5</td>\n",
       "    </tr>\n",
       "    <tr>\n",
       "      <th>3</th>\n",
       "      <td>Oscar Ruggeri</td>\n",
       "      <td>DEF</td>\n",
       "      <td>19</td>\n",
       "    </tr>\n",
       "    <tr>\n",
       "      <th>4</th>\n",
       "      <td>Sergio Batista</td>\n",
       "      <td>MED</td>\n",
       "      <td>2</td>\n",
       "    </tr>\n",
       "    <tr>\n",
       "      <th>5</th>\n",
       "      <td>Ricardo Giusti</td>\n",
       "      <td>MED</td>\n",
       "      <td>14</td>\n",
       "    </tr>\n",
       "    <tr>\n",
       "      <th>6</th>\n",
       "      <td>Jorge Burruchaga</td>\n",
       "      <td>MED</td>\n",
       "      <td>7</td>\n",
       "    </tr>\n",
       "    <tr>\n",
       "      <th>7</th>\n",
       "      <td>Héctor Enrique</td>\n",
       "      <td>MED</td>\n",
       "      <td>12</td>\n",
       "    </tr>\n",
       "    <tr>\n",
       "      <th>8</th>\n",
       "      <td>Julio Olarticoechea</td>\n",
       "      <td>MED</td>\n",
       "      <td>16</td>\n",
       "    </tr>\n",
       "    <tr>\n",
       "      <th>9</th>\n",
       "      <td>Jorge Valdano</td>\n",
       "      <td>DEL</td>\n",
       "      <td>11</td>\n",
       "    </tr>\n",
       "    <tr>\n",
       "      <th>10</th>\n",
       "      <td>Diego Maradona</td>\n",
       "      <td>DEL</td>\n",
       "      <td>10</td>\n",
       "    </tr>\n",
       "  </tbody>\n",
       "</table>\n",
       "</div>"
      ],
      "text/plain": [
       "                 Nombre Posición  Número\n",
       "0          Nery Pumpido      ARQ      18\n",
       "1         José Cuciuffo      DEF       9\n",
       "2       José Luis Brown      DEF       5\n",
       "3         Oscar Ruggeri      DEF      19\n",
       "4        Sergio Batista      MED       2\n",
       "5        Ricardo Giusti      MED      14\n",
       "6      Jorge Burruchaga      MED       7\n",
       "7        Héctor Enrique      MED      12\n",
       "8   Julio Olarticoechea      MED      16\n",
       "9         Jorge Valdano      DEL      11\n",
       "10       Diego Maradona      DEL      10"
      ]
     },
     "metadata": {},
     "output_type": "display_data"
    }
   ],
   "source": [
    "jugadores = [\n",
    "    {\"Nombre\": \"Nery Pumpido\", \"Posición\": \"ARQ\", \"Número\": 18},\n",
    "    {\"Nombre\": \"José Cuciuffo\", \"Posición\": \"DEF\", \"Número\": 9},\n",
    "    {\"Nombre\": \"José Luis Brown\", \"Posición\": \"DEF\", \"Número\": 5},\n",
    "    {\"Nombre\": \"Oscar Ruggeri\", \"Posición\": \"DEF\", \"Número\": 19},\n",
    "    {\"Nombre\": \"Sergio Batista\", \"Posición\": \"MED\", \"Número\": 2},\n",
    "    {\"Nombre\": \"Ricardo Giusti\", \"Posición\": \"MED\", \"Número\": 14},\n",
    "    {\"Nombre\": \"Jorge Burruchaga\", \"Posición\": \"MED\", \"Número\": 7},\n",
    "    {\"Nombre\": \"Héctor Enrique\", \"Posición\": \"MED\", \"Número\": 12},\n",
    "    {\"Nombre\": \"Julio Olarticoechea\", \"Posición\": \"MED\", \"Número\": 16},\n",
    "    {\"Nombre\": \"Jorge Valdano\", \"Posición\": \"DEL\", \"Número\": 11},\n",
    "    {\"Nombre\": \"Diego Maradona\", \"Posición\": \"DEL\", \"Número\": 10},\n",
    "]\n",
    "\n",
    "df = pd.DataFrame(jugadores)\n",
    "display(df)"
   ]
  },
  {
   "cell_type": "markdown",
   "metadata": {},
   "source": [
    "### Ejercicio 4\n",
    "\n",
    "* A partir del dataframe creado, generar una serie con el nombre de los mediocampistas\n",
    "\n",
    "**Ayuda:** usar una máscara booleana"
   ]
  },
  {
   "cell_type": "code",
   "execution_count": 95,
   "metadata": {},
   "outputs": [
    {
     "data": {
      "text/plain": [
       "4         Sergio Batista\n",
       "5         Ricardo Giusti\n",
       "6       Jorge Burruchaga\n",
       "7         Héctor Enrique\n",
       "8    Julio Olarticoechea\n",
       "Name: Nombre, dtype: object"
      ]
     },
     "metadata": {},
     "output_type": "display_data"
    },
    {
     "name": "stdout",
     "output_type": "stream",
     "text": [
      "<class 'pandas.core.series.Series'>\n"
     ]
    }
   ],
   "source": [
    "df_med = pd.Series(df[\"Nombre\"][df[\"Posición\"]==\"MED\"])\n",
    "display(df_med)\n",
    "print(type(df_med))"
   ]
  },
  {
   "cell_type": "markdown",
   "metadata": {},
   "source": [
    "### Ejercicio 5\n",
    "\n",
    "* Mostrar un dataframe con el nombre y el número de todos los jugadores con número de camiseta par"
   ]
  },
  {
   "cell_type": "code",
   "execution_count": 96,
   "metadata": {},
   "outputs": [
    {
     "name": "stdout",
     "output_type": "stream",
     "text": [
      "                 Nombre  Número\n",
      "0          Nery Pumpido      18\n",
      "4        Sergio Batista       2\n",
      "5        Ricardo Giusti      14\n",
      "7        Héctor Enrique      12\n",
      "8   Julio Olarticoechea      16\n",
      "10       Diego Maradona      10\n"
     ]
    }
   ],
   "source": [
    "df_par = df[[\"Nombre\", \"Número\"]][df[\"Número\"] % 2 == 0]\n",
    "print(df_par)"
   ]
  },
  {
   "cell_type": "markdown",
   "metadata": {},
   "source": [
    "### Ejercicio 6\n",
    "\n",
    "* Importar con pandas el dataset **'data/US Presidential Election Results - ResultsByTurnout.csv'**\n",
    "\n",
    "\n",
    "* Mirar qué tipo de datos hay en cada columna y si hay valores nulos"
   ]
  },
  {
   "cell_type": "code",
   "execution_count": 97,
   "metadata": {},
   "outputs": [
    {
     "data": {
      "text/plain": [
       "ElectionYear             int64\n",
       "Turnout(%)             float64\n",
       "TotalVotes              object\n",
       "TotalElectoralVotes      int64\n",
       "ElectoralVotesToWin      int64\n",
       "dtype: object"
      ]
     },
     "metadata": {},
     "output_type": "display_data"
    },
    {
     "data": {
      "text/plain": [
       "ElectionYear           0\n",
       "Turnout(%)             0\n",
       "TotalVotes             0\n",
       "TotalElectoralVotes    0\n",
       "ElectoralVotesToWin    0\n",
       "dtype: int64"
      ]
     },
     "metadata": {},
     "output_type": "display_data"
    },
    {
     "data": {
      "text/html": [
       "<div>\n",
       "<style scoped>\n",
       "    .dataframe tbody tr th:only-of-type {\n",
       "        vertical-align: middle;\n",
       "    }\n",
       "\n",
       "    .dataframe tbody tr th {\n",
       "        vertical-align: top;\n",
       "    }\n",
       "\n",
       "    .dataframe thead th {\n",
       "        text-align: right;\n",
       "    }\n",
       "</style>\n",
       "<table border=\"1\" class=\"dataframe\">\n",
       "  <thead>\n",
       "    <tr style=\"text-align: right;\">\n",
       "      <th></th>\n",
       "      <th>ElectionYear</th>\n",
       "      <th>Turnout(%)</th>\n",
       "      <th>TotalElectoralVotes</th>\n",
       "      <th>ElectoralVotesToWin</th>\n",
       "    </tr>\n",
       "  </thead>\n",
       "  <tbody>\n",
       "    <tr>\n",
       "      <th>count</th>\n",
       "      <td>59.000000</td>\n",
       "      <td>59.000000</td>\n",
       "      <td>59.000000</td>\n",
       "      <td>59.000000</td>\n",
       "    </tr>\n",
       "    <tr>\n",
       "      <th>mean</th>\n",
       "      <td>1904.000000</td>\n",
       "      <td>57.457627</td>\n",
       "      <td>407.542373</td>\n",
       "      <td>204.033898</td>\n",
       "    </tr>\n",
       "    <tr>\n",
       "      <th>std</th>\n",
       "      <td>68.702256</td>\n",
       "      <td>18.978919</td>\n",
       "      <td>144.850020</td>\n",
       "      <td>72.419983</td>\n",
       "    </tr>\n",
       "    <tr>\n",
       "      <th>min</th>\n",
       "      <td>1788.000000</td>\n",
       "      <td>6.300000</td>\n",
       "      <td>69.000000</td>\n",
       "      <td>35.000000</td>\n",
       "    </tr>\n",
       "    <tr>\n",
       "      <th>25%</th>\n",
       "      <td>1846.000000</td>\n",
       "      <td>53.500000</td>\n",
       "      <td>292.000000</td>\n",
       "      <td>146.000000</td>\n",
       "    </tr>\n",
       "    <tr>\n",
       "      <th>50%</th>\n",
       "      <td>1904.000000</td>\n",
       "      <td>60.100000</td>\n",
       "      <td>476.000000</td>\n",
       "      <td>238.000000</td>\n",
       "    </tr>\n",
       "    <tr>\n",
       "      <th>75%</th>\n",
       "      <td>1962.000000</td>\n",
       "      <td>70.800000</td>\n",
       "      <td>537.500000</td>\n",
       "      <td>269.000000</td>\n",
       "    </tr>\n",
       "    <tr>\n",
       "      <th>max</th>\n",
       "      <td>2020.000000</td>\n",
       "      <td>82.600000</td>\n",
       "      <td>538.000000</td>\n",
       "      <td>269.000000</td>\n",
       "    </tr>\n",
       "  </tbody>\n",
       "</table>\n",
       "</div>"
      ],
      "text/plain": [
       "       ElectionYear  Turnout(%)  TotalElectoralVotes  ElectoralVotesToWin\n",
       "count     59.000000   59.000000            59.000000            59.000000\n",
       "mean    1904.000000   57.457627           407.542373           204.033898\n",
       "std       68.702256   18.978919           144.850020            72.419983\n",
       "min     1788.000000    6.300000            69.000000            35.000000\n",
       "25%     1846.000000   53.500000           292.000000           146.000000\n",
       "50%     1904.000000   60.100000           476.000000           238.000000\n",
       "75%     1962.000000   70.800000           537.500000           269.000000\n",
       "max     2020.000000   82.600000           538.000000           269.000000"
      ]
     },
     "metadata": {},
     "output_type": "display_data"
    }
   ],
   "source": [
    "df = pd.read_csv(\"data\\\\US Presidential Election Results - ResultsByTurnout.csv\")\n",
    "display(df.dtypes)\n",
    "display(df.isna().sum())\n",
    "display(df.describe())"
   ]
  },
  {
   "cell_type": "code",
   "execution_count": 98,
   "metadata": {},
   "outputs": [
    {
     "data": {
      "text/html": [
       "<div>\n",
       "<style scoped>\n",
       "    .dataframe tbody tr th:only-of-type {\n",
       "        vertical-align: middle;\n",
       "    }\n",
       "\n",
       "    .dataframe tbody tr th {\n",
       "        vertical-align: top;\n",
       "    }\n",
       "\n",
       "    .dataframe thead th {\n",
       "        text-align: right;\n",
       "    }\n",
       "</style>\n",
       "<table border=\"1\" class=\"dataframe\">\n",
       "  <thead>\n",
       "    <tr style=\"text-align: right;\">\n",
       "      <th></th>\n",
       "      <th>ElectionYear</th>\n",
       "      <th>Turnout(%)</th>\n",
       "      <th>TotalVotes</th>\n",
       "      <th>TotalElectoralVotes</th>\n",
       "      <th>ElectoralVotesToWin</th>\n",
       "    </tr>\n",
       "  </thead>\n",
       "  <tbody>\n",
       "    <tr>\n",
       "      <th>0</th>\n",
       "      <td>1788</td>\n",
       "      <td>11.6</td>\n",
       "      <td>39,624</td>\n",
       "      <td>69</td>\n",
       "      <td>35</td>\n",
       "    </tr>\n",
       "    <tr>\n",
       "      <th>1</th>\n",
       "      <td>1792</td>\n",
       "      <td>6.3</td>\n",
       "      <td>28,300</td>\n",
       "      <td>132</td>\n",
       "      <td>66</td>\n",
       "    </tr>\n",
       "    <tr>\n",
       "      <th>2</th>\n",
       "      <td>1796</td>\n",
       "      <td>20.1</td>\n",
       "      <td>66,841</td>\n",
       "      <td>138</td>\n",
       "      <td>69</td>\n",
       "    </tr>\n",
       "    <tr>\n",
       "      <th>3</th>\n",
       "      <td>1800</td>\n",
       "      <td>32.3</td>\n",
       "      <td>75,142</td>\n",
       "      <td>138</td>\n",
       "      <td>69</td>\n",
       "    </tr>\n",
       "    <tr>\n",
       "      <th>4</th>\n",
       "      <td>1804</td>\n",
       "      <td>23.8</td>\n",
       "      <td>143,029</td>\n",
       "      <td>176</td>\n",
       "      <td>88</td>\n",
       "    </tr>\n",
       "  </tbody>\n",
       "</table>\n",
       "</div>"
      ],
      "text/plain": [
       "   ElectionYear  Turnout(%) TotalVotes  TotalElectoralVotes  \\\n",
       "0          1788        11.6     39,624                   69   \n",
       "1          1792         6.3     28,300                  132   \n",
       "2          1796        20.1     66,841                  138   \n",
       "3          1800        32.3     75,142                  138   \n",
       "4          1804        23.8    143,029                  176   \n",
       "\n",
       "   ElectoralVotesToWin  \n",
       "0                   35  \n",
       "1                   66  \n",
       "2                   69  \n",
       "3                   69  \n",
       "4                   88  "
      ]
     },
     "execution_count": 98,
     "metadata": {},
     "output_type": "execute_result"
    }
   ],
   "source": [
    "df.head()"
   ]
  },
  {
   "cell_type": "markdown",
   "metadata": {},
   "source": [
    "### Ejercicio 7\n",
    "\n",
    "* ¿En qué año se registró el mayor porcentaje de participación (Turnout)? ¿Y el mínimo?"
   ]
  },
  {
   "cell_type": "code",
   "execution_count": 99,
   "metadata": {},
   "outputs": [
    {
     "name": "stdout",
     "output_type": "stream",
     "text": [
      "82.6\n",
      "6.3\n"
     ]
    }
   ],
   "source": [
    "print(df[\"Turnout(%)\"].max())\n",
    "print(df[\"Turnout(%)\"].min())"
   ]
  },
  {
   "cell_type": "markdown",
   "metadata": {},
   "source": [
    "### Ejercicio 8\n",
    "\n",
    "* Convertir la columna TotalVotes  que es de tipo 'object' a tipo numérico. Para ello es necesario eliminar las comas que indican miles. \n",
    "\n",
    "**Ayuda:** aplicar los métodos str.replace(...) y luego .astype(...) sobre la serie TotalVotes"
   ]
  },
  {
   "cell_type": "code",
   "execution_count": 100,
   "metadata": {},
   "outputs": [
    {
     "data": {
      "text/plain": [
       "0     39624\n",
       "1     28300\n",
       "2     66841\n",
       "3     75142\n",
       "4    143029\n",
       "Name: TotalVotes, dtype: int32"
      ]
     },
     "metadata": {},
     "output_type": "display_data"
    }
   ],
   "source": [
    "df[\"TotalVotes\"] = df[\"TotalVotes\"].str.replace(\",\", \"\").astype(int)\n",
    "display(df[\"TotalVotes\"].head())\n"
   ]
  },
  {
   "cell_type": "markdown",
   "metadata": {},
   "source": [
    "### Ejercicio 9\n",
    "\n",
    "* Generar una nueva columna que contenga la cantidad de gente empadronada (ElectoralRoll). Calcularlo a partir del número total de votos registrados (TotalVotes) y el porcentaje de participación (Turnout(%))"
   ]
  },
  {
   "cell_type": "code",
   "execution_count": 104,
   "metadata": {},
   "outputs": [
    {
     "data": {
      "text/plain": [
       "0        341586\n",
       "1        449206\n",
       "2        332542\n",
       "3        232637\n",
       "4        600962\n",
       "5        523616\n",
       "6        690064\n",
       "7        664911\n",
       "8       1072861\n",
       "9       1359973\n",
       "10      2013575\n",
       "11      2270128\n",
       "12      2661122\n",
       "13      3003496\n",
       "14      3413710\n",
       "15      3954923\n",
       "16      4549395\n",
       "17      5109127\n",
       "18      5728069\n",
       "19      5284255\n",
       "20      7073473\n",
       "21      8970427\n",
       "22     10192081\n",
       "23     11452766\n",
       "24     12864635\n",
       "25     14140770\n",
       "26     15920893\n",
       "27     17508739\n",
       "28     18992436\n",
       "29     20648858\n",
       "30     22662464\n",
       "31     25506498\n",
       "32     29994474\n",
       "33     54400772\n",
       "34     59503286\n",
       "35     64687191\n",
       "36     69862738\n",
       "37     74832293\n",
       "38     79971334\n",
       "39     85826588\n",
       "40     93474204\n",
       "41     99120292\n",
       "42    103025461\n",
       "43    107887902\n",
       "44    112482936\n",
       "45    117119996\n",
       "46    138334572\n",
       "47    148780262\n",
       "48    159611952\n",
       "49    167850059\n",
       "50    173474784\n",
       "51    179731364\n",
       "52    186223663\n",
       "53    194504470\n",
       "54    203486430\n",
       "55    213171785\n",
       "56    220282269\n",
       "57    227403121\n",
       "58    239249853\n",
       "Name: ElectoralRoll, dtype: int32"
      ]
     },
     "execution_count": 104,
     "metadata": {},
     "output_type": "execute_result"
    }
   ],
   "source": [
    "df[\"ElectoralRoll\"] = (df[\"TotalVotes\"] / (df[\"Turnout(%)\"] / 100)).astype(int)\n",
    "df[\"ElectoralRoll\"]\n"
   ]
  },
  {
   "cell_type": "markdown",
   "metadata": {},
   "source": [
    "### Ejercicio 10\n",
    "\n",
    "* ¿En qué año se registró por primera vez más del 50% de participación?"
   ]
  },
  {
   "cell_type": "code",
   "execution_count": 107,
   "metadata": {},
   "outputs": [
    {
     "data": {
      "text/html": [
       "<div>\n",
       "<style scoped>\n",
       "    .dataframe tbody tr th:only-of-type {\n",
       "        vertical-align: middle;\n",
       "    }\n",
       "\n",
       "    .dataframe tbody tr th {\n",
       "        vertical-align: top;\n",
       "    }\n",
       "\n",
       "    .dataframe thead th {\n",
       "        text-align: right;\n",
       "    }\n",
       "</style>\n",
       "<table border=\"1\" class=\"dataframe\">\n",
       "  <thead>\n",
       "    <tr style=\"text-align: right;\">\n",
       "      <th></th>\n",
       "      <th>ElectionYear</th>\n",
       "      <th>Turnout(%)</th>\n",
       "      <th>TotalVotes</th>\n",
       "      <th>TotalElectoralVotes</th>\n",
       "      <th>ElectoralVotesToWin</th>\n",
       "      <th>ElectoralRoll</th>\n",
       "    </tr>\n",
       "  </thead>\n",
       "  <tbody>\n",
       "    <tr>\n",
       "      <th>10</th>\n",
       "      <td>1828</td>\n",
       "      <td>57.3</td>\n",
       "      <td>1153779</td>\n",
       "      <td>261</td>\n",
       "      <td>131</td>\n",
       "      <td>2013575</td>\n",
       "    </tr>\n",
       "  </tbody>\n",
       "</table>\n",
       "</div>"
      ],
      "text/plain": [
       "    ElectionYear  Turnout(%)  TotalVotes  TotalElectoralVotes  \\\n",
       "10          1828        57.3     1153779                  261   \n",
       "\n",
       "    ElectoralVotesToWin  ElectoralRoll  \n",
       "10                  131        2013575  "
      ]
     },
     "execution_count": 107,
     "metadata": {},
     "output_type": "execute_result"
    }
   ],
   "source": [
    "df[df[\"Turnout(%)\"]>50][0:1]\n"
   ]
  },
  {
   "cell_type": "markdown",
   "metadata": {},
   "source": [
    "### Ejercicio 11\n",
    "\n",
    "* ¿Cuál fue el máximo, mímino, promedio y desvio estandar en el nivel de participación durante siglo XX?"
   ]
  },
  {
   "cell_type": "code",
   "execution_count": 112,
   "metadata": {},
   "outputs": [
    {
     "data": {
      "text/plain": [
       "count    25.000000\n",
       "mean     58.548000\n",
       "std       5.780003\n",
       "min      48.900000\n",
       "25%      54.800000\n",
       "50%      58.100000\n",
       "75%      62.400000\n",
       "max      73.700000\n",
       "Name: Turnout(%), dtype: float64"
      ]
     },
     "execution_count": 112,
     "metadata": {},
     "output_type": "execute_result"
    }
   ],
   "source": [
    "df[(df[\"ElectionYear\"]>=1900) & (df[\"ElectionYear\"]<2000)][\"Turnout(%)\"].describe()\n",
    "\n"
   ]
  }
 ],
 "metadata": {
  "kernelspec": {
   "display_name": "Python 3 (ipykernel)",
   "language": "python",
   "name": "python3"
  },
  "language_info": {
   "codemirror_mode": {
    "name": "ipython",
    "version": 3
   },
   "file_extension": ".py",
   "mimetype": "text/x-python",
   "name": "python",
   "nbconvert_exporter": "python",
   "pygments_lexer": "ipython3",
   "version": "3.10.5"
  }
 },
 "nbformat": 4,
 "nbformat_minor": 4
}
