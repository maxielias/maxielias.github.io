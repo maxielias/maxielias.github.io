{
 "cells": [
  {
   "cell_type": "markdown",
   "metadata": {},
   "source": [
    "<img src=\"img/Marca-ITBA-Color-ALTA.png\" width=\"200\">\n",
    "\n",
    "# Master en Management & Analytics\n",
    "\n",
    "## Programación para el Análisis de Datos\n",
    "\n",
    "## Clase 2 - parte 1 - Numpy - ejercicios en clase"
   ]
  },
  {
   "cell_type": "code",
   "execution_count": 2,
   "metadata": {},
   "outputs": [],
   "source": [
    "import numpy as np"
   ]
  },
  {
   "cell_type": "markdown",
   "metadata": {},
   "source": [
    "### Ejercicio 1\n",
    "\n",
    "A partir de la lista de valores numéricos `l`, cree un array de NumPy `a`."
   ]
  },
  {
   "cell_type": "code",
   "execution_count": 3,
   "metadata": {},
   "outputs": [
    {
     "data": {
      "text/plain": [
       "array([ 3,  5, 10,  7])"
      ]
     },
     "execution_count": 3,
     "metadata": {},
     "output_type": "execute_result"
    }
   ],
   "source": [
    "l = [3, 5, 10, 7]\n",
    "\n",
    "### Completa con tu código aquí\n",
    "a = np.array(l)\n",
    "###\n",
    "a"
   ]
  },
  {
   "cell_type": "markdown",
   "metadata": {},
   "source": [
    "### Ejercicio 2\n",
    "\n",
    "Reemplazar todos los números impares por el número $-1$\n"
   ]
  },
  {
   "cell_type": "code",
   "execution_count": 6,
   "metadata": {},
   "outputs": [
    {
     "name": "stdout",
     "output_type": "stream",
     "text": [
      "[ 0 -1  2 -1  4 -1  6 -1  8 -1]\n"
     ]
    }
   ],
   "source": [
    "arr2 = np.array([0, 1, 2, 3, 4, 5, 6, 7, 8, 9])\n",
    "\n",
    "### Completa con tu código aquí\n",
    "arr2[1::2] = -1 # Al estar ordenado, puedo reemplazar partiendo del 1, hasta el final, con saltos de dos\n",
    "###\n",
    "print(arr2)"
   ]
  },
  {
   "cell_type": "markdown",
   "metadata": {},
   "source": [
    "### Ejercicio 3\n",
    "\n",
    "A partir de los array 1D `x` e `y`, crear un array 1D `z` que sea el resultado de eliminar en `x` los elementos presentes en `y`.\n",
    "\n",
    "\n",
    "**pista**\n",
    "- ver la función [*setdiff1d*](https://numpy.org/doc/stable/reference/generated/numpy.setdiff1d.html)"
   ]
  },
  {
   "cell_type": "code",
   "execution_count": 9,
   "metadata": {},
   "outputs": [
    {
     "data": {
      "text/plain": [
       "array([1, 2, 3, 4])"
      ]
     },
     "execution_count": 9,
     "metadata": {},
     "output_type": "execute_result"
    }
   ],
   "source": [
    "x = np.array([1,2,3,4,5])\n",
    "y = np.array([5,6,7,8,9])\n",
    "\n",
    "### Completa con tu código aquí\n",
    "z = np.setdiff1d(x, y)\n",
    "z\n",
    "####"
   ]
  },
  {
   "cell_type": "markdown",
   "metadata": {},
   "source": [
    "### Ejercicio 4\n",
    "\n",
    "Definir una función que obtiene los elementos de una matriz que sean mayores a 10 y multiplos de 3"
   ]
  },
  {
   "cell_type": "code",
   "execution_count": 21,
   "metadata": {},
   "outputs": [
    {
     "name": "stdout",
     "output_type": "stream",
     "text": [
      "[ 12  15  18  21  24  27  30  33  36  39  42  45  48  51  54  57  60  63\n",
      "  66  69  72  75  78  81  84  87  90  93  96  99 102 105 108 111 114 117\n",
      " 120 123 126 129 132 135 138 141 144 147 150 153 156 159 162 165 168 171\n",
      " 174 177 180 183 186 189 192 195 198 201 204 207 210 213 216 219 222 225\n",
      " 228 231 234 237 240 243 246 249 252 255 258 261 264 267 270 273 276 279\n",
      " 282 285 288 291 294 297 300 303 306 309 312 315 318 321 324 327 330 333\n",
      " 336 339 342 345 348 351 354 357 360 363 366 369 372 375 378 381 384 387\n",
      " 390 393 396 399 402 405 408 411 414 417 420 423 426 429 432 435 438 441\n",
      " 444 447 450 453 456 459 462 465 468 471 474 477 480 483 486 489 492 495\n",
      " 498 501 504 507 510 513 516 519 522 525 528 531 534 537 540 543 546 549\n",
      " 552 555 558 561 564 567 570 573 576 579 582 585 588 591 594 597 600 603\n",
      " 606 609 612 615 618 621 624 627 630 633 636 639 642 645 648 651 654 657\n",
      " 660 663 666 669 672 675 678 681 684 687 690 693 696 699 702 705 708 711\n",
      " 714 717 720 723 726 729 732 735 738 741 744 747 750 753 756 759 762 765\n",
      " 768 771 774 777 780 783 786 789 792 795 798 801 804 807 810 813 816 819\n",
      " 822 825 828 831 834 837 840 843 846 849 852 855 858 861 864 867 870 873\n",
      " 876 879 882 885 888 891 894 897 900 903 906 909 912 915 918 921 924 927\n",
      " 930 933 936 939 942 945 948 951 954 957 960 963 966 969 972 975 978 981\n",
      " 984 987 990 993 996 999]\n"
     ]
    }
   ],
   "source": [
    "def m10_mult3(X):\n",
    "### Completa con tu código aquí\n",
    "    mask_up10_by3 = (X > 10) & (X % 3 == 0)\n",
    "    print(X[mask_up10_by3])    \n",
    "###\n",
    "\n",
    "A = np.arange(1000).reshape(5,-1)\n",
    "\n",
    "m10_mult3(A)"
   ]
  },
  {
   "cell_type": "code",
   "execution_count": null,
   "metadata": {},
   "outputs": [],
   "source": []
  }
 ],
 "metadata": {
  "kernelspec": {
   "display_name": "Python 3 (ipykernel)",
   "language": "python",
   "name": "python3"
  },
  "language_info": {
   "codemirror_mode": {
    "name": "ipython",
    "version": 3
   },
   "file_extension": ".py",
   "mimetype": "text/x-python",
   "name": "python",
   "nbconvert_exporter": "python",
   "pygments_lexer": "ipython3",
   "version": "3.9.13"
  }
 },
 "nbformat": 4,
 "nbformat_minor": 4
}
